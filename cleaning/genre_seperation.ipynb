{
 "cells": [
  {
   "cell_type": "code",
   "execution_count": 51,
   "id": "8dd27727",
   "metadata": {},
   "outputs": [],
   "source": [
    "# Setup\n",
    "import pandas as pd\n",
    "import numpy as np\n",
    "import matplotlib.pyplot as plt\n",
    "import seaborn as sns \n",
    "import os\n",
    "\n",
    "anime = pd.read_csv('../data/anime_with_synopsis.csv')\n",
    "users = pd.read_csv('../data/users_with_location.csv')"
   ]
  },
  {
   "cell_type": "markdown",
   "id": "8ed2c05f",
   "metadata": {},
   "source": [
    "### Data Cleaning\n",
    "#### Anime\n",
    "- Rename columns and lowercase columns\n",
    "- One hot encode genres"
   ]
  },
  {
   "cell_type": "code",
   "execution_count": 52,
   "id": "bb7ed72f",
   "metadata": {},
   "outputs": [],
   "source": [
    "# Column clean up \n",
    "anime = anime.rename({'Genders':'Genres'}, axis='columns')\n",
    "anime.columns = anime.columns.str.lower()"
   ]
  },
  {
   "cell_type": "code",
   "execution_count": 54,
   "id": "4028fc9b",
   "metadata": {},
   "outputs": [
    {
     "name": "stdout",
     "output_type": "stream",
     "text": [
      "11.619922161102295\n"
     ]
    }
   ],
   "source": [
    "import time\n",
    "\n",
    "# treat null values\n",
    "anime['genres'].fillna('NA', inplace = True)\n",
    "\n",
    "# separate all genres into one list, considering comma + space as separators\n",
    "genre = anime['genres'].str.split(', ').tolist()\n",
    "\n",
    "# flatten the list\n",
    "flat_genre = [item for sublist in genre for item in sublist]\n",
    "\n",
    "# convert to a set to make unique\n",
    "set_genre = set(flat_genre)\n",
    "\n",
    "# back to list\n",
    "unique_genre = list(set_genre)\n",
    "\n",
    "# # remove NA\n",
    "# unique_genre.remove('NA')\n",
    "\n",
    "# create columns by each unique genre\n",
    "anime = anime.reindex(anime.columns.tolist() + unique_genre, axis=1, fill_value=0)\n",
    "\n",
    "start = time.time()\n",
    "# for each value inside column, update the dummy\n",
    "for index, row in anime.iterrows():\n",
    "    for val in row.genres.split(', '):\n",
    "        if val != 'NA':\n",
    "            anime.loc[index, val] = 1\n",
    "\n",
    "end = time.time()\n",
    "print(end - start)"
   ]
  },
  {
   "cell_type": "code",
   "execution_count": 58,
   "id": "147e5a58",
   "metadata": {},
   "outputs": [],
   "source": [
    "# save csv\n",
    "anime.to_csv('../data/anime_with_genre_separated.csv')"
   ]
  },
  {
   "cell_type": "code",
   "execution_count": null,
   "id": "2eca2e14",
   "metadata": {},
   "outputs": [],
   "source": []
  }
 ],
 "metadata": {
  "kernelspec": {
   "display_name": "Python 3",
   "language": "python",
   "name": "python3"
  },
  "language_info": {
   "codemirror_mode": {
    "name": "ipython",
    "version": 3
   },
   "file_extension": ".py",
   "mimetype": "text/x-python",
   "name": "python",
   "nbconvert_exporter": "python",
   "pygments_lexer": "ipython3",
   "version": "3.8.2"
  }
 },
 "nbformat": 4,
 "nbformat_minor": 5
}
